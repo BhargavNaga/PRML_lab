{
 "cells": [
  {
   "cell_type": "markdown",
   "metadata": {
    "collapsed": false
   },
   "source": [
    "## Importing Libraries"
   ]
  },
  {
   "cell_type": "code",
   "execution_count": 1,
   "metadata": {
    "collapsed": false
   },
   "outputs": [],
   "source": [
    "import numpy as np\n",
    "import pandas as pd\n",
    "import sympy as sp"
   ]
  },
  {
   "cell_type": "markdown",
   "metadata": {
    "collapsed": false
   },
   "source": [
    "## Defined Classes and Functions"
   ]
  },
  {
   "cell_type": "code",
   "execution_count": 2,
   "metadata": {
    "collapsed": false
   },
   "outputs": [],
   "source": [
    "class PCA:\n",
    "    def __init__(self, n_components=0):\n",
    "        self.d1 = n_components\n",
    "\n",
    "    def fit(self, X):\n",
    "        if self.d1 == 0:\n",
    "            self.d1 = round(0.95*len(X))\n",
    "        self.mean_vector = np.mean(X, axis = 0)\n",
    "        self.covariance_matrix = np.cov(X, rowvar=False)\n",
    "        self.eigen_values, self.eigen_vectors = np.linalg.eig(self.covariance_matrix)\n",
    "        ind = np.argsort(self.eigen_values)[::-1]\n",
    "        self.sorted_eigen_values = self.eigen_values[ind]\n",
    "        self.sorted_eigen_vectors = self.eigen_vectors[ind]\n",
    "        self.final_eigen_vectors = self.sorted_eigen_vectors[:, :self.d1]\n",
    "\n",
    "    def transform(self, X):\n",
    "        X1 = np.dot(X, self.final_eigen_vectors)\n",
    "        return X1"
   ]
  },
  {
   "cell_type": "markdown",
   "metadata": {
    "collapsed": false
   },
   "source": [
    "### The Classification I used for checking is Bayes Classification"
   ]
  },
  {
   "cell_type": "code",
   "execution_count": 3,
   "metadata": {
    "collapsed": false
   },
   "outputs": [],
   "source": [
    "class BayesClassifier:\n",
    "    def __init__(self):\n",
    "        pass\n",
    "\n",
    "    def fit(self, X_train, y_train):\n",
    "        self.classes, self.class_counts = np.unique(y_train, return_counts=True)\n",
    "        self.no_of_classes = len(self.classes)\n",
    "        self.total_data_points = len(y_train)\n",
    "        self.apriori_probabilities = self.class_counts/self.total_data_points\n",
    "        self.class_split_training_data = {}\n",
    "        for c in self.classes:\n",
    "            self.class_split_training_data[c] = []\n",
    "            for j in range(len(y_train)):\n",
    "                if c == y_train[j]:\n",
    "                    self.class_split_training_data[c].append(X_train[j])\n",
    "            self.class_split_training_data[c] = np.array(self.class_split_training_data[c])\n",
    "        self.mean_vectors = []\n",
    "        for c in self.classes:\n",
    "            self.mean_vectors.append(np.mean(self.class_split_training_data[c], axis = 0))\n",
    "        self.covariance_matrices = []\n",
    "        for c in self.classes:\n",
    "            self.covariance_matrices.append(np.cov(self.class_split_training_data[c], rowvar=False))\n",
    "        self.inverse_covariance_matrices = []\n",
    "        for c in range(len(self.classes)):\n",
    "            self.inverse_covariance_matrices.append(np.linalg.inv(self.covariance_matrices[c]))\n",
    "        self.dimensions = len(X_train[0])\n",
    "        self.det_covariance_matrices = []\n",
    "        for c in range(len(self.classes)):\n",
    "            self.det_covariance_matrices.append(sp.Matrix(self.covariance_matrices[c]).det())\n",
    "\n",
    "    def predict(self, X_test):\n",
    "        y_pred = []\n",
    "        for X in X_test:\n",
    "            probability_values = {}\n",
    "            class_count = 0\n",
    "            for c in self.classes:\n",
    "                p_xw = np.exp(-0.5 * np.dot(np.dot((X - self.mean_vectors[class_count]).T, self.inverse_covariance_matrices[class_count]), (X - self.mean_vectors[class_count]))) / (((2 * np.pi) ** (self.dimensions / 2)) * np.power(self.det_covariance_matrices[c], 0.5))\n",
    "                p_wx = p_xw * self.apriori_probabilities[class_count]\n",
    "                probability_values[c] = p_wx\n",
    "                class_count += 1\n",
    "            y_pred.append(max(probability_values, key=probability_values.get))\n",
    "        y_pred = np.array(y_pred)\n",
    "        return y_pred"
   ]
  },
  {
   "cell_type": "markdown",
   "metadata": {
    "collapsed": false
   },
   "source": [
    "## Importing Dataset"
   ]
  },
  {
   "cell_type": "code",
   "execution_count": 14,
   "metadata": {
    "collapsed": false
   },
   "outputs": [
    {
     "data": {
      "text/html": [
       "<div>\n",
       "<style scoped>\n",
       "    .dataframe tbody tr th:only-of-type {\n",
       "        vertical-align: middle;\n",
       "    }\n",
       "\n",
       "    .dataframe tbody tr th {\n",
       "        vertical-align: top;\n",
       "    }\n",
       "\n",
       "    .dataframe thead th {\n",
       "        text-align: right;\n",
       "    }\n",
       "</style>\n",
       "<table border=\"1\" class=\"dataframe\">\n",
       "  <thead>\n",
       "    <tr style=\"text-align: right;\">\n",
       "      <th></th>\n",
       "      <th>Unnamed: 0</th>\n",
       "      <th>Unnamed: 1</th>\n",
       "      <th>0</th>\n",
       "      <th>1</th>\n",
       "      <th>2</th>\n",
       "      <th>3</th>\n",
       "      <th>4</th>\n",
       "      <th>5</th>\n",
       "      <th>6</th>\n",
       "      <th>7</th>\n",
       "      <th>...</th>\n",
       "      <th>118</th>\n",
       "      <th>119</th>\n",
       "      <th>120</th>\n",
       "      <th>121</th>\n",
       "      <th>122</th>\n",
       "      <th>123</th>\n",
       "      <th>124</th>\n",
       "      <th>125</th>\n",
       "      <th>126</th>\n",
       "      <th>127</th>\n",
       "    </tr>\n",
       "  </thead>\n",
       "  <tbody>\n",
       "    <tr>\n",
       "      <th>0</th>\n",
       "      <td>1</td>\n",
       "      <td>male</td>\n",
       "      <td>-0.066420</td>\n",
       "      <td>0.151611</td>\n",
       "      <td>0.027740</td>\n",
       "      <td>0.052771</td>\n",
       "      <td>-0.066105</td>\n",
       "      <td>-0.041232</td>\n",
       "      <td>-0.002637</td>\n",
       "      <td>-0.158467</td>\n",
       "      <td>...</td>\n",
       "      <td>0.025989</td>\n",
       "      <td>-0.001087</td>\n",
       "      <td>0.027260</td>\n",
       "      <td>-0.046754</td>\n",
       "      <td>-0.118619</td>\n",
       "      <td>-0.163774</td>\n",
       "      <td>-0.000590</td>\n",
       "      <td>-0.076400</td>\n",
       "      <td>0.107497</td>\n",
       "      <td>0.001567</td>\n",
       "    </tr>\n",
       "    <tr>\n",
       "      <th>1</th>\n",
       "      <td>2</td>\n",
       "      <td>male</td>\n",
       "      <td>-0.030614</td>\n",
       "      <td>0.049667</td>\n",
       "      <td>0.008084</td>\n",
       "      <td>-0.050324</td>\n",
       "      <td>0.007649</td>\n",
       "      <td>-0.063818</td>\n",
       "      <td>-0.019530</td>\n",
       "      <td>-0.119905</td>\n",
       "      <td>...</td>\n",
       "      <td>0.044229</td>\n",
       "      <td>-0.023900</td>\n",
       "      <td>-0.028108</td>\n",
       "      <td>0.040618</td>\n",
       "      <td>-0.146579</td>\n",
       "      <td>-0.141244</td>\n",
       "      <td>0.016162</td>\n",
       "      <td>0.017638</td>\n",
       "      <td>0.080610</td>\n",
       "      <td>-0.015930</td>\n",
       "    </tr>\n",
       "    <tr>\n",
       "      <th>2</th>\n",
       "      <td>3</td>\n",
       "      <td>male</td>\n",
       "      <td>-0.096178</td>\n",
       "      <td>0.061127</td>\n",
       "      <td>0.035326</td>\n",
       "      <td>-0.035388</td>\n",
       "      <td>-0.090728</td>\n",
       "      <td>-0.018634</td>\n",
       "      <td>-0.024315</td>\n",
       "      <td>-0.139786</td>\n",
       "      <td>...</td>\n",
       "      <td>0.111141</td>\n",
       "      <td>0.059436</td>\n",
       "      <td>-0.029222</td>\n",
       "      <td>0.042115</td>\n",
       "      <td>-0.222173</td>\n",
       "      <td>-0.116908</td>\n",
       "      <td>0.093428</td>\n",
       "      <td>0.017391</td>\n",
       "      <td>0.057652</td>\n",
       "      <td>0.086116</td>\n",
       "    </tr>\n",
       "    <tr>\n",
       "      <th>3</th>\n",
       "      <td>4</td>\n",
       "      <td>male</td>\n",
       "      <td>-0.103057</td>\n",
       "      <td>0.085044</td>\n",
       "      <td>0.078333</td>\n",
       "      <td>-0.035873</td>\n",
       "      <td>-0.028163</td>\n",
       "      <td>0.004924</td>\n",
       "      <td>0.007829</td>\n",
       "      <td>-0.017016</td>\n",
       "      <td>...</td>\n",
       "      <td>0.100793</td>\n",
       "      <td>-0.002644</td>\n",
       "      <td>-0.023388</td>\n",
       "      <td>0.029497</td>\n",
       "      <td>-0.139830</td>\n",
       "      <td>-0.119243</td>\n",
       "      <td>0.005306</td>\n",
       "      <td>-0.015100</td>\n",
       "      <td>0.161575</td>\n",
       "      <td>0.062462</td>\n",
       "    </tr>\n",
       "    <tr>\n",
       "      <th>4</th>\n",
       "      <td>5</td>\n",
       "      <td>male</td>\n",
       "      <td>-0.125815</td>\n",
       "      <td>0.120046</td>\n",
       "      <td>0.023131</td>\n",
       "      <td>-0.042901</td>\n",
       "      <td>0.038215</td>\n",
       "      <td>-0.049677</td>\n",
       "      <td>-0.054258</td>\n",
       "      <td>-0.130758</td>\n",
       "      <td>...</td>\n",
       "      <td>0.090197</td>\n",
       "      <td>0.067527</td>\n",
       "      <td>0.039926</td>\n",
       "      <td>0.047469</td>\n",
       "      <td>-0.056852</td>\n",
       "      <td>-0.076700</td>\n",
       "      <td>0.004966</td>\n",
       "      <td>0.028171</td>\n",
       "      <td>0.026041</td>\n",
       "      <td>0.084135</td>\n",
       "    </tr>\n",
       "    <tr>\n",
       "      <th>...</th>\n",
       "      <td>...</td>\n",
       "      <td>...</td>\n",
       "      <td>...</td>\n",
       "      <td>...</td>\n",
       "      <td>...</td>\n",
       "      <td>...</td>\n",
       "      <td>...</td>\n",
       "      <td>...</td>\n",
       "      <td>...</td>\n",
       "      <td>...</td>\n",
       "      <td>...</td>\n",
       "      <td>...</td>\n",
       "      <td>...</td>\n",
       "      <td>...</td>\n",
       "      <td>...</td>\n",
       "      <td>...</td>\n",
       "      <td>...</td>\n",
       "      <td>...</td>\n",
       "      <td>...</td>\n",
       "      <td>...</td>\n",
       "      <td>...</td>\n",
       "    </tr>\n",
       "    <tr>\n",
       "      <th>795</th>\n",
       "      <td>796</td>\n",
       "      <td>female</td>\n",
       "      <td>-0.164731</td>\n",
       "      <td>0.064301</td>\n",
       "      <td>0.058630</td>\n",
       "      <td>-0.017420</td>\n",
       "      <td>-0.157600</td>\n",
       "      <td>-0.022536</td>\n",
       "      <td>0.002864</td>\n",
       "      <td>-0.072739</td>\n",
       "      <td>...</td>\n",
       "      <td>0.095115</td>\n",
       "      <td>0.007198</td>\n",
       "      <td>-0.004655</td>\n",
       "      <td>0.023957</td>\n",
       "      <td>-0.170753</td>\n",
       "      <td>-0.136630</td>\n",
       "      <td>0.041614</td>\n",
       "      <td>0.031600</td>\n",
       "      <td>0.019064</td>\n",
       "      <td>0.004384</td>\n",
       "    </tr>\n",
       "    <tr>\n",
       "      <th>796</th>\n",
       "      <td>797</td>\n",
       "      <td>female</td>\n",
       "      <td>-0.095308</td>\n",
       "      <td>0.051095</td>\n",
       "      <td>0.092913</td>\n",
       "      <td>-0.101745</td>\n",
       "      <td>-0.083153</td>\n",
       "      <td>-0.028159</td>\n",
       "      <td>0.009090</td>\n",
       "      <td>-0.114513</td>\n",
       "      <td>...</td>\n",
       "      <td>0.056078</td>\n",
       "      <td>0.119846</td>\n",
       "      <td>0.087470</td>\n",
       "      <td>0.017481</td>\n",
       "      <td>-0.096594</td>\n",
       "      <td>-0.084553</td>\n",
       "      <td>0.037709</td>\n",
       "      <td>0.030732</td>\n",
       "      <td>-0.083713</td>\n",
       "      <td>0.064970</td>\n",
       "    </tr>\n",
       "    <tr>\n",
       "      <th>797</th>\n",
       "      <td>798</td>\n",
       "      <td>female</td>\n",
       "      <td>-0.202852</td>\n",
       "      <td>0.037039</td>\n",
       "      <td>0.079731</td>\n",
       "      <td>-0.047156</td>\n",
       "      <td>-0.140062</td>\n",
       "      <td>-0.080246</td>\n",
       "      <td>0.057668</td>\n",
       "      <td>-0.122083</td>\n",
       "      <td>...</td>\n",
       "      <td>0.066954</td>\n",
       "      <td>0.035684</td>\n",
       "      <td>-0.023112</td>\n",
       "      <td>-0.030452</td>\n",
       "      <td>-0.154243</td>\n",
       "      <td>-0.188270</td>\n",
       "      <td>0.071086</td>\n",
       "      <td>0.037384</td>\n",
       "      <td>-0.006257</td>\n",
       "      <td>0.039977</td>\n",
       "    </tr>\n",
       "    <tr>\n",
       "      <th>798</th>\n",
       "      <td>799</td>\n",
       "      <td>female</td>\n",
       "      <td>-0.088300</td>\n",
       "      <td>0.063530</td>\n",
       "      <td>0.049627</td>\n",
       "      <td>-0.026011</td>\n",
       "      <td>-0.172773</td>\n",
       "      <td>0.086218</td>\n",
       "      <td>0.042710</td>\n",
       "      <td>-0.161852</td>\n",
       "      <td>...</td>\n",
       "      <td>0.039460</td>\n",
       "      <td>0.067547</td>\n",
       "      <td>0.040426</td>\n",
       "      <td>0.028007</td>\n",
       "      <td>-0.154515</td>\n",
       "      <td>-0.127736</td>\n",
       "      <td>0.046967</td>\n",
       "      <td>0.009701</td>\n",
       "      <td>-0.016942</td>\n",
       "      <td>0.048071</td>\n",
       "    </tr>\n",
       "    <tr>\n",
       "      <th>799</th>\n",
       "      <td>800</td>\n",
       "      <td>female</td>\n",
       "      <td>-0.156201</td>\n",
       "      <td>0.055165</td>\n",
       "      <td>0.142716</td>\n",
       "      <td>-0.115393</td>\n",
       "      <td>-0.128982</td>\n",
       "      <td>-0.139830</td>\n",
       "      <td>-0.037305</td>\n",
       "      <td>-0.101402</td>\n",
       "      <td>...</td>\n",
       "      <td>0.024955</td>\n",
       "      <td>0.066980</td>\n",
       "      <td>-0.002332</td>\n",
       "      <td>-0.045738</td>\n",
       "      <td>-0.110557</td>\n",
       "      <td>-0.014995</td>\n",
       "      <td>-0.002124</td>\n",
       "      <td>-0.010298</td>\n",
       "      <td>-0.028856</td>\n",
       "      <td>0.075323</td>\n",
       "    </tr>\n",
       "  </tbody>\n",
       "</table>\n",
       "<p>800 rows × 130 columns</p>\n",
       "</div>"
      ],
      "text/plain": [
       "     Unnamed: 0 Unnamed: 1         0         1         2         3         4   \n",
       "0             1       male -0.066420  0.151611  0.027740  0.052771 -0.066105  \\\n",
       "1             2       male -0.030614  0.049667  0.008084 -0.050324  0.007649   \n",
       "2             3       male -0.096178  0.061127  0.035326 -0.035388 -0.090728   \n",
       "3             4       male -0.103057  0.085044  0.078333 -0.035873 -0.028163   \n",
       "4             5       male -0.125815  0.120046  0.023131 -0.042901  0.038215   \n",
       "..          ...        ...       ...       ...       ...       ...       ...   \n",
       "795         796     female -0.164731  0.064301  0.058630 -0.017420 -0.157600   \n",
       "796         797     female -0.095308  0.051095  0.092913 -0.101745 -0.083153   \n",
       "797         798     female -0.202852  0.037039  0.079731 -0.047156 -0.140062   \n",
       "798         799     female -0.088300  0.063530  0.049627 -0.026011 -0.172773   \n",
       "799         800     female -0.156201  0.055165  0.142716 -0.115393 -0.128982   \n",
       "\n",
       "            5         6         7  ...       118       119       120   \n",
       "0   -0.041232 -0.002637 -0.158467  ...  0.025989 -0.001087  0.027260  \\\n",
       "1   -0.063818 -0.019530 -0.119905  ...  0.044229 -0.023900 -0.028108   \n",
       "2   -0.018634 -0.024315 -0.139786  ...  0.111141  0.059436 -0.029222   \n",
       "3    0.004924  0.007829 -0.017016  ...  0.100793 -0.002644 -0.023388   \n",
       "4   -0.049677 -0.054258 -0.130758  ...  0.090197  0.067527  0.039926   \n",
       "..        ...       ...       ...  ...       ...       ...       ...   \n",
       "795 -0.022536  0.002864 -0.072739  ...  0.095115  0.007198 -0.004655   \n",
       "796 -0.028159  0.009090 -0.114513  ...  0.056078  0.119846  0.087470   \n",
       "797 -0.080246  0.057668 -0.122083  ...  0.066954  0.035684 -0.023112   \n",
       "798  0.086218  0.042710 -0.161852  ...  0.039460  0.067547  0.040426   \n",
       "799 -0.139830 -0.037305 -0.101402  ...  0.024955  0.066980 -0.002332   \n",
       "\n",
       "          121       122       123       124       125       126       127  \n",
       "0   -0.046754 -0.118619 -0.163774 -0.000590 -0.076400  0.107497  0.001567  \n",
       "1    0.040618 -0.146579 -0.141244  0.016162  0.017638  0.080610 -0.015930  \n",
       "2    0.042115 -0.222173 -0.116908  0.093428  0.017391  0.057652  0.086116  \n",
       "3    0.029497 -0.139830 -0.119243  0.005306 -0.015100  0.161575  0.062462  \n",
       "4    0.047469 -0.056852 -0.076700  0.004966  0.028171  0.026041  0.084135  \n",
       "..        ...       ...       ...       ...       ...       ...       ...  \n",
       "795  0.023957 -0.170753 -0.136630  0.041614  0.031600  0.019064  0.004384  \n",
       "796  0.017481 -0.096594 -0.084553  0.037709  0.030732 -0.083713  0.064970  \n",
       "797 -0.030452 -0.154243 -0.188270  0.071086  0.037384 -0.006257  0.039977  \n",
       "798  0.028007 -0.154515 -0.127736  0.046967  0.009701 -0.016942  0.048071  \n",
       "799 -0.045738 -0.110557 -0.014995 -0.002124 -0.010298 -0.028856  0.075323  \n",
       "\n",
       "[800 rows x 130 columns]"
      ]
     },
     "execution_count": 14,
     "metadata": {},
     "output_type": "execute_result"
    }
   ],
   "source": [
    "dataset = pd.read_csv(\"gender.csv\")\n",
    "dataset"
   ]
  },
  {
   "cell_type": "markdown",
   "metadata": {
    "collapsed": false
   },
   "source": [
    "## Test-Train Split"
   ]
  },
  {
   "cell_type": "code",
   "execution_count": 15,
   "metadata": {
    "collapsed": false
   },
   "outputs": [],
   "source": [
    "types = dataset.iloc[:, 1].unique()\n",
    "test_df = pd.DataFrame()\n",
    "train_df = pd.DataFrame()\n",
    "for t in types:\n",
    "    type_df = dataset[dataset.iloc[:, 1] == t]\n",
    "    train_df = pd.concat([train_df, type_df.iloc[10:]])\n",
    "    test_df = pd.concat([test_df, type_df.iloc[:10]])"
   ]
  },
  {
   "cell_type": "code",
   "execution_count": 16,
   "metadata": {
    "collapsed": false
   },
   "outputs": [],
   "source": [
    "X_train = train_df.iloc[:, 2:].values\n",
    "X_test = test_df.iloc[:, 2:].values\n",
    "y_train = train_df.iloc[:, 1].values\n",
    "y_test = test_df.iloc[:, 1].values"
   ]
  },
  {
   "cell_type": "code",
   "execution_count": 17,
   "metadata": {
    "collapsed": false
   },
   "outputs": [
    {
     "name": "stdout",
     "output_type": "stream",
     "text": [
      "(780, 128)\n"
     ]
    }
   ],
   "source": [
    "print(X_train.shape)"
   ]
  },
  {
   "cell_type": "code",
   "execution_count": 18,
   "metadata": {
    "collapsed": false
   },
   "outputs": [
    {
     "name": "stdout",
     "output_type": "stream",
     "text": [
      "(20, 128)\n"
     ]
    }
   ],
   "source": [
    "print(X_test.shape)"
   ]
  },
  {
   "cell_type": "code",
   "execution_count": 19,
   "metadata": {
    "collapsed": false
   },
   "outputs": [
    {
     "name": "stdout",
     "output_type": "stream",
     "text": [
      "(780,)\n"
     ]
    }
   ],
   "source": [
    "print(y_train.shape)"
   ]
  },
  {
   "cell_type": "code",
   "execution_count": 20,
   "metadata": {
    "collapsed": false
   },
   "outputs": [
    {
     "name": "stdout",
     "output_type": "stream",
     "text": [
      "['male' 'male' 'male' 'male' 'male' 'male' 'male' 'male' 'male' 'male'\n",
      " 'female' 'female' 'female' 'female' 'female' 'female' 'female' 'female'\n",
      " 'female' 'female']\n"
     ]
    }
   ],
   "source": [
    "print(y_test)"
   ]
  },
  {
   "cell_type": "markdown",
   "metadata": {
    "collapsed": false
   },
   "source": [
    "## Encoding Dependent Variable"
   ]
  },
  {
   "cell_type": "code",
   "execution_count": 22,
   "metadata": {
    "collapsed": false
   },
   "outputs": [
    {
     "name": "stdout",
     "output_type": "stream",
     "text": [
      "y-test : [1 1 1 1 1 1 1 1 1 1 0 0 0 0 0 0 0 0 0 0]\n",
      "y-train : [1 1 1 1 1 1 1 1 1 1 1 1 1 1 1 1 1 1 1 1 1 1 1 1 1 1 1 1 1 1 1 1 1 1 1 1 1\n",
      " 1 1 1 1 1 1 1 1 1 1 1 1 1 1 1 1 1 1 1 1 1 1 1 1 1 1 1 1 1 1 1 1 1 1 1 1 1\n",
      " 1 1 1 1 1 1 1 1 1 1 1 1 1 1 1 1 1 1 1 1 1 1 1 1 1 1 1 1 1 1 1 1 1 1 1 1 1\n",
      " 1 1 1 1 1 1 1 1 1 1 1 1 1 1 1 1 1 1 1 1 1 1 1 1 1 1 1 1 1 1 1 1 1 1 1 1 1\n",
      " 1 1 1 1 1 1 1 1 1 1 1 1 1 1 1 1 1 1 1 1 1 1 1 1 1 1 1 1 1 1 1 1 1 1 1 1 1\n",
      " 1 1 1 1 1 1 1 1 1 1 1 1 1 1 1 1 1 1 1 1 1 1 1 1 1 1 1 1 1 1 1 1 1 1 1 1 1\n",
      " 1 1 1 1 1 1 1 1 1 1 1 1 1 1 1 1 1 1 1 1 1 1 1 1 1 1 1 1 1 1 1 1 1 1 1 1 1\n",
      " 1 1 1 1 1 1 1 1 1 1 1 1 1 1 1 1 1 1 1 1 1 1 1 1 1 1 1 1 1 1 1 1 1 1 1 1 1\n",
      " 1 1 1 1 1 1 1 1 1 1 1 1 1 1 1 1 1 1 1 1 1 1 1 1 1 1 1 1 1 1 1 1 1 1 1 1 1\n",
      " 1 1 1 1 1 1 1 1 1 1 1 1 1 1 1 1 1 1 1 1 1 1 1 1 1 1 1 1 1 1 1 1 1 1 1 1 1\n",
      " 1 1 1 1 1 1 1 1 1 1 1 1 1 1 1 1 1 1 1 0 0 0 0 0 0 0 0 0 0 0 0 0 0 0 0 0 0\n",
      " 0 0 0 0 0 0 0 0 0 0 0 0 0 0 0 0 0 0 0 0 0 0 0 0 0 0 0 0 0 0 0 0 0 0 0 0 0\n",
      " 0 0 0 0 0 0 0 0 0 0 0 0 0 0 0 0 0 0 0 0 0 0 0 0 0 0 0 0 0 0 0 0 0 0 0 0 0\n",
      " 0 0 0 0 0 0 0 0 0 0 0 0 0 0 0 0 0 0 0 0 0 0 0 0 0 0 0 0 0 0 0 0 0 0 0 0 0\n",
      " 0 0 0 0 0 0 0 0 0 0 0 0 0 0 0 0 0 0 0 0 0 0 0 0 0 0 0 0 0 0 0 0 0 0 0 0 0\n",
      " 0 0 0 0 0 0 0 0 0 0 0 0 0 0 0 0 0 0 0 0 0 0 0 0 0 0 0 0 0 0 0 0 0 0 0 0 0\n",
      " 0 0 0 0 0 0 0 0 0 0 0 0 0 0 0 0 0 0 0 0 0 0 0 0 0 0 0 0 0 0 0 0 0 0 0 0 0\n",
      " 0 0 0 0 0 0 0 0 0 0 0 0 0 0 0 0 0 0 0 0 0 0 0 0 0 0 0 0 0 0 0 0 0 0 0 0 0\n",
      " 0 0 0 0 0 0 0 0 0 0 0 0 0 0 0 0 0 0 0 0 0 0 0 0 0 0 0 0 0 0 0 0 0 0 0 0 0\n",
      " 0 0 0 0 0 0 0 0 0 0 0 0 0 0 0 0 0 0 0 0 0 0 0 0 0 0 0 0 0 0 0 0 0 0 0 0 0\n",
      " 0 0 0 0 0 0 0 0 0 0 0 0 0 0 0 0 0 0 0 0 0 0 0 0 0 0 0 0 0 0 0 0 0 0 0 0 0\n",
      " 0 0 0]\n"
     ]
    }
   ],
   "source": [
    "from sklearn.preprocessing import LabelEncoder\n",
    "le = LabelEncoder()\n",
    "y_train = le.fit_transform(y_train)\n",
    "y_test = le.fit_transform(y_test)\n",
    "print(\"y-test :\",y_test)\n",
    "print(\"y-train :\",y_train)"
   ]
  },
  {
   "cell_type": "markdown",
   "metadata": {
    "collapsed": false
   },
   "source": [
    "## Before PCA"
   ]
  },
  {
   "cell_type": "code",
   "execution_count": 232,
   "metadata": {
    "collapsed": false
   },
   "outputs": [],
   "source": [
    "bc = BayesClassifier()\n",
    "bc.fit(X_train, y_train)"
   ]
  },
  {
   "cell_type": "code",
   "execution_count": 233,
   "metadata": {
    "collapsed": false
   },
   "outputs": [],
   "source": [
    "y_pred_before = bc.predict(X_test)"
   ]
  },
  {
   "cell_type": "code",
   "execution_count": 234,
   "metadata": {
    "collapsed": false
   },
   "outputs": [
    {
     "data": {
      "text/html": [
       "<div>\n",
       "<style scoped>\n",
       "    .dataframe tbody tr th:only-of-type {\n",
       "        vertical-align: middle;\n",
       "    }\n",
       "\n",
       "    .dataframe tbody tr th {\n",
       "        vertical-align: top;\n",
       "    }\n",
       "\n",
       "    .dataframe thead th {\n",
       "        text-align: right;\n",
       "    }\n",
       "</style>\n",
       "<table border=\"1\" class=\"dataframe\">\n",
       "  <thead>\n",
       "    <tr style=\"text-align: right;\">\n",
       "      <th></th>\n",
       "      <th>Actual</th>\n",
       "      <th>Predicted</th>\n",
       "    </tr>\n",
       "  </thead>\n",
       "  <tbody>\n",
       "    <tr>\n",
       "      <th>0</th>\n",
       "      <td>1</td>\n",
       "      <td>1</td>\n",
       "    </tr>\n",
       "    <tr>\n",
       "      <th>1</th>\n",
       "      <td>1</td>\n",
       "      <td>1</td>\n",
       "    </tr>\n",
       "    <tr>\n",
       "      <th>2</th>\n",
       "      <td>1</td>\n",
       "      <td>1</td>\n",
       "    </tr>\n",
       "    <tr>\n",
       "      <th>3</th>\n",
       "      <td>1</td>\n",
       "      <td>1</td>\n",
       "    </tr>\n",
       "    <tr>\n",
       "      <th>4</th>\n",
       "      <td>1</td>\n",
       "      <td>1</td>\n",
       "    </tr>\n",
       "    <tr>\n",
       "      <th>5</th>\n",
       "      <td>1</td>\n",
       "      <td>1</td>\n",
       "    </tr>\n",
       "    <tr>\n",
       "      <th>6</th>\n",
       "      <td>1</td>\n",
       "      <td>1</td>\n",
       "    </tr>\n",
       "    <tr>\n",
       "      <th>7</th>\n",
       "      <td>1</td>\n",
       "      <td>0</td>\n",
       "    </tr>\n",
       "    <tr>\n",
       "      <th>8</th>\n",
       "      <td>1</td>\n",
       "      <td>1</td>\n",
       "    </tr>\n",
       "    <tr>\n",
       "      <th>9</th>\n",
       "      <td>1</td>\n",
       "      <td>1</td>\n",
       "    </tr>\n",
       "    <tr>\n",
       "      <th>10</th>\n",
       "      <td>0</td>\n",
       "      <td>1</td>\n",
       "    </tr>\n",
       "    <tr>\n",
       "      <th>11</th>\n",
       "      <td>0</td>\n",
       "      <td>1</td>\n",
       "    </tr>\n",
       "    <tr>\n",
       "      <th>12</th>\n",
       "      <td>0</td>\n",
       "      <td>0</td>\n",
       "    </tr>\n",
       "    <tr>\n",
       "      <th>13</th>\n",
       "      <td>0</td>\n",
       "      <td>0</td>\n",
       "    </tr>\n",
       "    <tr>\n",
       "      <th>14</th>\n",
       "      <td>0</td>\n",
       "      <td>0</td>\n",
       "    </tr>\n",
       "    <tr>\n",
       "      <th>15</th>\n",
       "      <td>0</td>\n",
       "      <td>0</td>\n",
       "    </tr>\n",
       "    <tr>\n",
       "      <th>16</th>\n",
       "      <td>0</td>\n",
       "      <td>0</td>\n",
       "    </tr>\n",
       "    <tr>\n",
       "      <th>17</th>\n",
       "      <td>0</td>\n",
       "      <td>0</td>\n",
       "    </tr>\n",
       "    <tr>\n",
       "      <th>18</th>\n",
       "      <td>0</td>\n",
       "      <td>0</td>\n",
       "    </tr>\n",
       "    <tr>\n",
       "      <th>19</th>\n",
       "      <td>0</td>\n",
       "      <td>0</td>\n",
       "    </tr>\n",
       "  </tbody>\n",
       "</table>\n",
       "</div>"
      ],
      "text/plain": [
       "    Actual  Predicted\n",
       "0        1          1\n",
       "1        1          1\n",
       "2        1          1\n",
       "3        1          1\n",
       "4        1          1\n",
       "5        1          1\n",
       "6        1          1\n",
       "7        1          0\n",
       "8        1          1\n",
       "9        1          1\n",
       "10       0          1\n",
       "11       0          1\n",
       "12       0          0\n",
       "13       0          0\n",
       "14       0          0\n",
       "15       0          0\n",
       "16       0          0\n",
       "17       0          0\n",
       "18       0          0\n",
       "19       0          0"
      ]
     },
     "execution_count": 234,
     "metadata": {},
     "output_type": "execute_result"
    }
   ],
   "source": [
    "final_df_before = pd.DataFrame({\"Actual\": y_test, \"Predicted\": y_pred_before})\n",
    "final_df_before"
   ]
  },
  {
   "cell_type": "code",
   "execution_count": 235,
   "metadata": {
    "collapsed": false
   },
   "outputs": [
    {
     "name": "stdout",
     "output_type": "stream",
     "text": [
      "The Accuracy of this model is 85.0%\n"
     ]
    }
   ],
   "source": [
    "from sklearn.metrics import accuracy_score\n",
    "accuracy = accuracy_score(y_test, y_pred_before)\n",
    "print(f\"The Accuracy of this model is {accuracy*100}%\")"
   ]
  },
  {
   "cell_type": "markdown",
   "metadata": {
    "collapsed": false
   },
   "source": [
    "## After PCA"
   ]
  },
  {
   "cell_type": "code",
   "execution_count": 236,
   "metadata": {
    "collapsed": false
   },
   "outputs": [],
   "source": [
    "pca = PCA()\n",
    "pca.fit(X_train)"
   ]
  },
  {
   "cell_type": "code",
   "execution_count": 237,
   "metadata": {
    "collapsed": false
   },
   "outputs": [],
   "source": [
    "X_train = pca.transform(X_train)"
   ]
  },
  {
   "cell_type": "code",
   "execution_count": 238,
   "metadata": {
    "collapsed": false
   },
   "outputs": [
    {
     "data": {
      "text/plain": [
       "array([[-1.38689026e-01,  1.14681215e-01,  1.97865498e-01, ...,\n",
       "         1.23095188e-02, -9.89974993e-02,  1.57661843e-02],\n",
       "       [-1.24415272e-01,  1.45949092e-01, -2.32155635e-04, ...,\n",
       "         6.49741552e-02, -8.42331865e-02, -2.71605053e-02],\n",
       "       [-1.18578741e-01,  2.89203706e-01, -1.19667837e-03, ...,\n",
       "         1.09359351e-04, -6.56010804e-02, -3.29677962e-02],\n",
       "       ...,\n",
       "       [-4.18633075e-01,  2.35723714e-01,  4.32502059e-02, ...,\n",
       "         1.08523556e-01, -5.66566182e-02, -9.52950966e-02],\n",
       "       [-3.96593493e-01,  3.67760998e-01,  8.36882332e-02, ...,\n",
       "         2.51239746e-02, -9.85750961e-02, -6.36760857e-02],\n",
       "       [-4.09019305e-01,  7.41508877e-02,  1.63472845e-02, ...,\n",
       "         6.04061814e-02, -5.63152133e-02, -1.10747364e-01]])"
      ]
     },
     "execution_count": 238,
     "metadata": {},
     "output_type": "execute_result"
    }
   ],
   "source": [
    "X_train"
   ]
  },
  {
   "cell_type": "code",
   "execution_count": 239,
   "metadata": {
    "collapsed": false
   },
   "outputs": [],
   "source": [
    "X_test = pca.transform(X_test)"
   ]
  },
  {
   "cell_type": "code",
   "execution_count": 240,
   "metadata": {
    "collapsed": false
   },
   "outputs": [
    {
     "data": {
      "text/plain": [
       "array([[-0.10868886,  0.13282677,  0.04207608, ...,  0.01188005,\n",
       "        -0.07689616, -0.06241607],\n",
       "       [-0.10421986,  0.09721415, -0.07660516, ...,  0.05428965,\n",
       "        -0.0839531 , -0.09280539],\n",
       "       [-0.09098331,  0.10429021,  0.05737186, ...,  0.06249362,\n",
       "        -0.00916363,  0.0373829 ],\n",
       "       ...,\n",
       "       [-0.46130381,  0.10282308,  0.16251835, ...,  0.02912312,\n",
       "        -0.12385808,  0.00442813],\n",
       "       [-0.37771255,  0.26660279,  0.00659197, ...,  0.07874259,\n",
       "        -0.06290559, -0.11258269],\n",
       "       [-0.39931161,  0.16671217,  0.15763826, ...,  0.0380619 ,\n",
       "        -0.16741477, -0.06462711]])"
      ]
     },
     "execution_count": 240,
     "metadata": {},
     "output_type": "execute_result"
    }
   ],
   "source": [
    "X_test"
   ]
  },
  {
   "cell_type": "code",
   "execution_count": 241,
   "metadata": {
    "collapsed": false
   },
   "outputs": [],
   "source": [
    "bc = BayesClassifier()\n",
    "bc.fit(X_train, y_train)"
   ]
  },
  {
   "cell_type": "code",
   "execution_count": 242,
   "metadata": {
    "collapsed": false
   },
   "outputs": [],
   "source": [
    "y_pred_after = bc.predict(X_test)"
   ]
  },
  {
   "cell_type": "code",
   "execution_count": 243,
   "metadata": {
    "collapsed": false
   },
   "outputs": [
    {
     "data": {
      "text/html": [
       "<div>\n",
       "<style scoped>\n",
       "    .dataframe tbody tr th:only-of-type {\n",
       "        vertical-align: middle;\n",
       "    }\n",
       "\n",
       "    .dataframe tbody tr th {\n",
       "        vertical-align: top;\n",
       "    }\n",
       "\n",
       "    .dataframe thead th {\n",
       "        text-align: right;\n",
       "    }\n",
       "</style>\n",
       "<table border=\"1\" class=\"dataframe\">\n",
       "  <thead>\n",
       "    <tr style=\"text-align: right;\">\n",
       "      <th></th>\n",
       "      <th>Actual</th>\n",
       "      <th>Predicted</th>\n",
       "    </tr>\n",
       "  </thead>\n",
       "  <tbody>\n",
       "    <tr>\n",
       "      <th>0</th>\n",
       "      <td>1</td>\n",
       "      <td>1</td>\n",
       "    </tr>\n",
       "    <tr>\n",
       "      <th>1</th>\n",
       "      <td>1</td>\n",
       "      <td>1</td>\n",
       "    </tr>\n",
       "    <tr>\n",
       "      <th>2</th>\n",
       "      <td>1</td>\n",
       "      <td>1</td>\n",
       "    </tr>\n",
       "    <tr>\n",
       "      <th>3</th>\n",
       "      <td>1</td>\n",
       "      <td>1</td>\n",
       "    </tr>\n",
       "    <tr>\n",
       "      <th>4</th>\n",
       "      <td>1</td>\n",
       "      <td>1</td>\n",
       "    </tr>\n",
       "    <tr>\n",
       "      <th>5</th>\n",
       "      <td>1</td>\n",
       "      <td>1</td>\n",
       "    </tr>\n",
       "    <tr>\n",
       "      <th>6</th>\n",
       "      <td>1</td>\n",
       "      <td>1</td>\n",
       "    </tr>\n",
       "    <tr>\n",
       "      <th>7</th>\n",
       "      <td>1</td>\n",
       "      <td>0</td>\n",
       "    </tr>\n",
       "    <tr>\n",
       "      <th>8</th>\n",
       "      <td>1</td>\n",
       "      <td>1</td>\n",
       "    </tr>\n",
       "    <tr>\n",
       "      <th>9</th>\n",
       "      <td>1</td>\n",
       "      <td>1</td>\n",
       "    </tr>\n",
       "    <tr>\n",
       "      <th>10</th>\n",
       "      <td>0</td>\n",
       "      <td>1</td>\n",
       "    </tr>\n",
       "    <tr>\n",
       "      <th>11</th>\n",
       "      <td>0</td>\n",
       "      <td>1</td>\n",
       "    </tr>\n",
       "    <tr>\n",
       "      <th>12</th>\n",
       "      <td>0</td>\n",
       "      <td>0</td>\n",
       "    </tr>\n",
       "    <tr>\n",
       "      <th>13</th>\n",
       "      <td>0</td>\n",
       "      <td>0</td>\n",
       "    </tr>\n",
       "    <tr>\n",
       "      <th>14</th>\n",
       "      <td>0</td>\n",
       "      <td>0</td>\n",
       "    </tr>\n",
       "    <tr>\n",
       "      <th>15</th>\n",
       "      <td>0</td>\n",
       "      <td>0</td>\n",
       "    </tr>\n",
       "    <tr>\n",
       "      <th>16</th>\n",
       "      <td>0</td>\n",
       "      <td>0</td>\n",
       "    </tr>\n",
       "    <tr>\n",
       "      <th>17</th>\n",
       "      <td>0</td>\n",
       "      <td>0</td>\n",
       "    </tr>\n",
       "    <tr>\n",
       "      <th>18</th>\n",
       "      <td>0</td>\n",
       "      <td>0</td>\n",
       "    </tr>\n",
       "    <tr>\n",
       "      <th>19</th>\n",
       "      <td>0</td>\n",
       "      <td>0</td>\n",
       "    </tr>\n",
       "  </tbody>\n",
       "</table>\n",
       "</div>"
      ],
      "text/plain": [
       "    Actual  Predicted\n",
       "0        1          1\n",
       "1        1          1\n",
       "2        1          1\n",
       "3        1          1\n",
       "4        1          1\n",
       "5        1          1\n",
       "6        1          1\n",
       "7        1          0\n",
       "8        1          1\n",
       "9        1          1\n",
       "10       0          1\n",
       "11       0          1\n",
       "12       0          0\n",
       "13       0          0\n",
       "14       0          0\n",
       "15       0          0\n",
       "16       0          0\n",
       "17       0          0\n",
       "18       0          0\n",
       "19       0          0"
      ]
     },
     "execution_count": 243,
     "metadata": {},
     "output_type": "execute_result"
    }
   ],
   "source": [
    "final_df_after = pd.DataFrame({\"Actual\": y_test, \"Predicted\": y_pred_after})\n",
    "final_df_after"
   ]
  },
  {
   "cell_type": "code",
   "execution_count": 244,
   "metadata": {
    "collapsed": false
   },
   "outputs": [
    {
     "name": "stdout",
     "output_type": "stream",
     "text": [
      "The Accuracy of this model is 85.0%\n"
     ]
    }
   ],
   "source": [
    "accuracy = accuracy_score(y_test, y_pred_after)\n",
    "print(f\"The Accuracy of this model is {accuracy*100}%\")"
   ]
  }
 ],
 "metadata": {
  "kernelspec": {
   "display_name": "Python 3",
   "language": "python",
   "name": "python3"
  },
  "language_info": {
   "codemirror_mode": {
    "name": "ipython",
    "version": 3
   },
   "file_extension": ".py",
   "mimetype": "text/x-python",
   "name": "python",
   "nbconvert_exporter": "python",
   "pygments_lexer": "ipython3",
   "version": "3.10.11"
  }
 },
 "nbformat": 4,
 "nbformat_minor": 0
}
