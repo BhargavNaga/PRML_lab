{
 "cells": [
  {
   "cell_type": "code",
   "execution_count": 1,
   "metadata": {},
   "outputs": [],
   "source": [
    "#import libraries\n",
    "import numpy as np\n",
    "import pandas as pd\n",
    "import matplotlib.pyplot as plt\n",
    "import seaborn as sns\n",
    "from sympy import *\n",
    "\n"
   ]
  },
  {
   "cell_type": "code",
   "execution_count": 13,
   "metadata": {},
   "outputs": [
    {
     "name": "stdout",
     "output_type": "stream",
     "text": [
      "(800, 128)\n",
      "(800,)\n"
     ]
    },
    {
     "name": "stderr",
     "output_type": "stream",
     "text": [
      "C:\\Users\\nagab\\AppData\\Local\\Packages\\PythonSoftwareFoundation.Python.3.10_qbz5n2kfra8p0\\LocalCache\\local-packages\\Python310\\site-packages\\sklearn\\preprocessing\\_label.py:116: DataConversionWarning: A column-vector y was passed when a 1d array was expected. Please change the shape of y to (n_samples, ), for example using ravel().\n",
      "  y = column_or_1d(y, warn=True)\n"
     ]
    }
   ],
   "source": [
    "#load the iris dataset\n",
    "dataset = pd.read_csv('face_feature_vectors.csv')  \n",
    "\n",
    "X = dataset.iloc[:,2:].values\n",
    "y = dataset.iloc[:,1:2].values\n",
    "\n",
    "from sklearn.preprocessing import LabelEncoder\n",
    "le = LabelEncoder()\n",
    "y = le.fit_transform(y)\n",
    "\n",
    "print(X.shape)\n",
    "\n",
    "print(y.shape)\n"
   ]
  },
  {
   "cell_type": "markdown",
   "metadata": {},
   "source": [
    "## split first 5 data points of each class into training set and remaining 395 points into test set"
   ]
  },
  {
   "cell_type": "code",
   "execution_count": 4,
   "metadata": {},
   "outputs": [
    {
     "name": "stdout",
     "output_type": "stream",
     "text": [
      "(10, 128)\n",
      "(10,)\n",
      "(790, 128)\n",
      "(790,)\n"
     ]
    }
   ],
   "source": [
    "# seperate data into different classes\n",
    "male_indices = np.where(y==1)[0]\n",
    "female_indices = np.where(y==0)[0]\n",
    "\n",
    "# split first 5 data points of each class into testing set and remaining 395 points into training set\n",
    "\n",
    "X_test = np.concatenate((X[male_indices[:5]], X[female_indices[:5]]),axis = 0)\n",
    "y_test = np.concatenate((y[male_indices[:5]], y[female_indices[:5]]),axis = 0)\n",
    "X_train = np.concatenate((X[male_indices[5:]], X[female_indices[5:]]),axis = 0)\n",
    "y_train = np.concatenate((y[male_indices[5:]], y[female_indices[5:]]),axis = 0)\n",
    "\n",
    "print(X_test.shape)\n",
    "print(y_test.shape)\n",
    "print(X_train.shape)\n",
    "print(y_train.shape)\n",
    "\n"
   ]
  },
  {
   "cell_type": "code",
   "execution_count": 6,
   "metadata": {},
   "outputs": [
    {
     "name": "stdout",
     "output_type": "stream",
     "text": [
      "mean_vector of males:\n",
      " [-9.12682951e-02  9.26627972e-02  4.37648293e-02 -3.02703433e-02\n",
      " -9.34554573e-02 -1.38453392e-02 -1.03896107e-02 -1.05276523e-01\n",
      "  1.29707273e-01 -5.07738911e-02  1.99340208e-01 -3.32230868e-02\n",
      " -2.39884129e-01 -5.99004539e-02 -1.96462208e-02  1.04802457e-01\n",
      " -1.49386262e-01 -1.12444197e-01 -1.22064315e-01 -9.01498322e-02\n",
      "  1.27200896e-02  2.90510499e-02  3.21906934e-02  4.80791709e-03\n",
      " -1.39520250e-01 -3.08623786e-01 -7.40319441e-02 -9.73655389e-02\n",
      "  6.60231589e-02 -9.69972284e-02  2.05003577e-02  4.02396851e-02\n",
      " -1.82002440e-01 -7.43015988e-02  1.88982819e-02  4.76713457e-02\n",
      " -4.52486882e-02 -5.93617062e-02  2.06963378e-01  2.47188771e-02\n",
      " -1.52393851e-01  2.50209736e-02  4.75442619e-02  2.56151338e-01\n",
      "  1.93161357e-01  6.57204423e-03  2.36197253e-02 -5.99630446e-02\n",
      "  1.16941670e-01 -2.43271693e-01  6.05811867e-02  1.34513861e-01\n",
      "  1.43770173e-01  6.86746338e-02  8.50765823e-02 -1.28681023e-01\n",
      "  1.94651526e-02  1.31400411e-01 -1.88280166e-01  8.84326692e-02\n",
      "  7.89931888e-02 -9.15975927e-02 -4.68040345e-02 -2.68494802e-02\n",
      "  1.49253583e-01  8.82466283e-02 -7.64171569e-02 -1.30917249e-01\n",
      "  1.67449943e-01 -1.30560879e-01 -4.91998969e-02  5.97954959e-02\n",
      " -8.56434400e-02 -1.51822424e-01 -2.71550753e-01  5.21964414e-02\n",
      "  3.62915875e-01  1.27191687e-01 -1.86640386e-01 -1.45978498e-03\n",
      " -7.22371443e-02 -1.20388067e-02  3.88532645e-02  2.63264294e-02\n",
      " -9.16032862e-02 -5.38471590e-02 -9.02293535e-02  2.66872838e-02\n",
      "  1.79239438e-01 -2.00131121e-02 -3.45155186e-02  2.07966682e-01\n",
      "  1.68200927e-02 -4.05067332e-03  5.18058697e-02  3.98768706e-02\n",
      " -1.16708589e-01 -1.47714385e-02 -1.05498638e-01 -1.10875556e-02\n",
      "  6.61315598e-02 -1.17701579e-01  1.41895198e-02  8.69327377e-02\n",
      " -1.75165712e-01  1.61494062e-01 -1.63406046e-02 -3.06793974e-02\n",
      " -6.62772608e-05 -1.44669888e-02 -7.93260632e-02  2.61773957e-03\n",
      "  1.69836918e-01 -2.44590150e-01  2.17524275e-01  1.80089854e-01\n",
      " -2.69593577e-03  1.26911699e-01  6.47729329e-02  5.08281075e-02\n",
      " -2.12290267e-03  6.47415738e-03 -1.25738814e-01 -1.18024159e-01\n",
      "  2.23427807e-02 -2.47755964e-02  1.94137959e-02  3.96450264e-02]\n",
      "covariance_mat of males:\n",
      " [[ 3.16328105e-03 -5.73157407e-04 -2.97682846e-04 ...  6.51347798e-04\n",
      "  -2.27358422e-04 -9.89172734e-05]\n",
      " [-5.73157407e-04  2.26105296e-03  3.65259665e-04 ... -3.45937850e-04\n",
      "  -2.92078249e-04 -2.04208450e-04]\n",
      " [-2.97682846e-04  3.65259665e-04  2.53021267e-03 ... -3.45438227e-04\n",
      "   9.79811329e-05 -8.84490101e-05]\n",
      " ...\n",
      " [ 6.51347798e-04 -3.45937850e-04 -3.45438227e-04 ...  2.45628403e-03\n",
      "   6.15939584e-05 -4.22971785e-05]\n",
      " [-2.27358422e-04 -2.92078249e-04  9.79811329e-05 ...  6.15939584e-05\n",
      "   2.40397561e-03  2.63357714e-04]\n",
      " [-9.89172734e-05 -2.04208450e-04 -8.84490101e-05 ... -4.22971785e-05\n",
      "   2.63357714e-04  1.75921775e-03]]\n",
      "inv_cov of males:\n",
      " [[ 6.38454017e+13  2.55154725e+12  1.65672874e+13 ...  2.23912618e+12\n",
      "  -1.34945746e+13  3.53816404e+13]\n",
      " [ 2.54696177e+12  1.00105139e+14 -8.16843162e+12 ...  6.62427733e+12\n",
      "   1.65509249e+13  3.01323953e+12]\n",
      " [ 1.65718198e+13 -8.16637568e+12  6.30282758e+13 ... -1.05577620e+13\n",
      "  -1.26915303e+13 -1.76320379e+13]\n",
      " ...\n",
      " [ 2.23906572e+12  6.62638647e+12 -1.05636745e+13 ...  8.39611846e+13\n",
      "   1.44306692e+13 -8.16549277e+12]\n",
      " [-1.34969619e+13  1.65369068e+13 -1.26904668e+13 ...  1.44299830e+13\n",
      "   1.21211642e+14 -2.31292570e+12]\n",
      " [ 3.53754978e+13  3.01189079e+12 -1.76405333e+13 ... -8.16358828e+12\n",
      "  -2.30137156e+12  1.21182228e+14]]\n",
      "determinant:\n",
      " 8.51780534237847e-863\n",
      "\n",
      "\n",
      "\n",
      "\n",
      "mean_vector of females:\n",
      " [-0.11770278  0.07654543  0.08197692 -0.07748667 -0.12295383 -0.01000438\n",
      " -0.00952021 -0.13195717  0.17674344 -0.10830993  0.1670226  -0.05782952\n",
      " -0.26199393  0.01133659 -0.0489519   0.16447503 -0.16713823 -0.17854487\n",
      " -0.09729144 -0.05163948  0.01094985  0.05179939  0.03180491  0.05556899\n",
      " -0.14098741 -0.32540725 -0.06053693 -0.07360545  0.02038419 -0.05272297\n",
      "  0.01456543  0.0938589  -0.17904572 -0.00701515  0.05383644  0.09755989\n",
      " -0.05855773 -0.10881799  0.20928789 -0.00329288 -0.23509358 -0.04210382\n",
      "  0.07531881  0.2194277   0.21965738 -0.02500194  0.01730463 -0.09010496\n",
      "  0.12246899 -0.29882481  0.01058144  0.15576271  0.0639338   0.08024739\n",
      "  0.06148972 -0.17615276  0.01530792  0.1461379  -0.1872841   0.03848969\n",
      "  0.05789656 -0.12173135 -0.02803467 -0.04975933  0.17846433  0.09828539\n",
      " -0.12227182 -0.1577185   0.18843077 -0.16582454 -0.03223536  0.09967625\n",
      " -0.10870158 -0.1824827  -0.23052954 -0.01064767  0.38263753  0.11602343\n",
      " -0.14054777  0.03281624 -0.07787002 -0.00654375  0.00054558  0.08318241\n",
      " -0.04082352 -0.0405652  -0.0926576   0.00945468  0.22165828 -0.04316135\n",
      " -0.00425085  0.24631802  0.00128143 -0.01949589  0.03085234  0.07258306\n",
      " -0.11847305 -0.00248043 -0.13238285 -0.02875154  0.006394   -0.05759749\n",
      "  0.00518091  0.0974886  -0.17924655  0.16406632 -0.03637598 -0.02052432\n",
      " -0.00940957 -0.05174055 -0.06253205 -0.02435433  0.16683324 -0.25208638\n",
      "  0.17659589  0.16605661  0.01013652  0.1604863   0.05195048  0.06194481\n",
      "  0.01766733 -0.02611847 -0.13898535 -0.08713128  0.05373224 -0.03171628\n",
      "  0.00364532  0.02645459]\n",
      "covariance_mat of females:\n",
      " [[ 2.43711101e-03 -3.95885633e-04  3.67424485e-04 ...  1.36032497e-04\n",
      "  -2.26478736e-04 -1.67995298e-04]\n",
      " [-3.95885633e-04  2.56543670e-03  4.68945752e-05 ... -4.80147458e-04\n",
      "  -1.33853743e-04  5.71641092e-05]\n",
      " [ 3.67424485e-04  4.68945752e-05  1.93964903e-03 ... -1.36830421e-04\n",
      "  -1.93336592e-04  4.04063807e-04]\n",
      " ...\n",
      " [ 1.36032497e-04 -4.80147458e-04 -1.36830421e-04 ...  2.28158090e-03\n",
      "  -1.10417029e-04  2.81534203e-04]\n",
      " [-2.26478736e-04 -1.33853743e-04 -1.93336592e-04 ... -1.10417029e-04\n",
      "   2.33772660e-03 -3.04673371e-04]\n",
      " [-1.67995298e-04  5.71641092e-05  4.04063807e-04 ...  2.81534203e-04\n",
      "  -3.04673371e-04  2.69064161e-03]]\n",
      "inv_cov of females:\n",
      " [[ 7.58703654e+13 -4.94793146e+12  1.95832265e+13 ...  1.16082684e+12\n",
      "  -2.88142195e+13  3.94212518e+13]\n",
      " [-4.95139734e+12  7.59754359e+13 -1.73562076e+13 ...  7.46386254e+12\n",
      "   1.27020067e+13  3.03442547e+11]\n",
      " [ 1.95833584e+13 -1.73559239e+13  6.96259527e+13 ... -1.03183126e+13\n",
      "  -2.59525945e+13 -1.03239285e+13]\n",
      " ...\n",
      " [ 1.16532268e+12  7.46554639e+12 -1.03172470e+13 ...  7.61566400e+13\n",
      "   2.32570300e+13 -9.30656347e+12]\n",
      " [-2.88084696e+13  1.27077542e+13 -2.59484539e+13 ...  2.32632409e+13\n",
      "   1.24061729e+14  1.01938009e+13]\n",
      " [ 3.94232048e+13  3.11724087e+11 -1.03229301e+13 ... -9.30576480e+12\n",
      "   1.01908594e+13  1.38171835e+14]]\n",
      "determinant:\n",
      " 4.76420588395851e-864\n",
      "\n",
      "\n",
      "\n",
      "\n"
     ]
    }
   ],
   "source": [
    "\n",
    "mean_males = np.mean(X_train[y_train == 1], axis=0)\n",
    "print(\"mean_vector of males:\\n\",mean_males)\n",
    "cov_males = np.cov(X_train[y_train == 1], rowvar=False)\n",
    "print(\"covariance_mat of males:\\n\",cov_males)\n",
    "inv_cov_males = np.linalg.inv(cov_males)\n",
    "print(\"inv_cov of males:\\n\",inv_cov_males)\n",
    "#calculate the determinant of inverse covariance matrix\n",
    "cov_male = Matrix(cov_males)\n",
    "determinant_males = cov_male.det()\n",
    "print(\"determinant:\\n\",determinant_males)\n",
    "\n",
    "\n",
    "print(\"\\n\\n\\n\")\n",
    "\n",
    "mean_females= np.mean(X_train[y_train == 0], axis=0)\n",
    "print(\"mean_vector of females:\\n\",mean_females)\n",
    "cov_females = np.cov(X_train[y_train == 0], rowvar=False)\n",
    "print(\"covariance_mat of females:\\n\",cov_females)\n",
    "inv_cov_females = np.linalg.inv(cov_females)\n",
    "print(\"inv_cov of females:\\n\",inv_cov_females)\n",
    "cov_female = Matrix(cov_females)\n",
    "determinant_females = cov_female.det()\n",
    "print(\"determinant:\\n\",determinant_females)\n",
    "\n",
    "print(\"\\n\\n\\n\")"
   ]
  },
  {
   "cell_type": "code",
   "execution_count": 7,
   "metadata": {},
   "outputs": [
    {
     "name": "stdout",
     "output_type": "stream",
     "text": [
      "(128, 128)\n"
     ]
    }
   ],
   "source": [
    "#print the dimensions of mean vector and covariance matrix\n",
    "print(cov_males.shape)"
   ]
  },
  {
   "cell_type": "code",
   "execution_count": 9,
   "metadata": {},
   "outputs": [],
   "source": [
    "def multivariate_normal_density(x, mean_vector, inv_cov,det_cov):\n",
    "    p = x.shape[0]\n",
    "    exponent = -0.5 * np.dot(np.dot((x - mean_vector).T, inv_cov), (x - mean_vector))\n",
    "    coef = 1 / ((2 * np.pi) ** (p / 2) * ((det_cov) ** 0.5))\n",
    "    return coef * np.exp(exponent)"
   ]
  },
  {
   "cell_type": "code",
   "execution_count": 10,
   "metadata": {},
   "outputs": [
    {
     "name": "stdout",
     "output_type": "stream",
     "text": [
      "male_density:  [            inf             inf             inf             inf\n",
      "             inf             inf 3.98044533e+237 1.31107317e+284\n",
      " 8.99090761e+242 2.09410227e+240]\n",
      "female_density:  [1.14418525e+305 5.02766248e+302 7.31230319e+286             inf\n",
      " 2.44385654e+281 8.49353687e+297             inf             inf\n",
      "             inf             inf]\n",
      "y-predicted matrix:  [1 1 1 0 1 1 0 0 0 0]\n"
     ]
    }
   ],
   "source": [
    "# finding multivariate_normal_density for each sample in test set for each class\n",
    "male_density = np.zeros(X_test.shape[0])\n",
    "female_density = np.zeros(X_test.shape[0])\n",
    "for i in range(X_test.shape[0]):\n",
    "    male_density[i] = multivariate_normal_density(X_test[i], mean_males, inv_cov_males,determinant_males)\n",
    "\n",
    "    female_density[i] = multivariate_normal_density(X_test[i], mean_females, inv_cov_females,determinant_females)\n",
    "    \n",
    "  \n",
    "    \n",
    "print(\"male_density: \",male_density)\n",
    "print(\"female_density: \",female_density)\n",
    "\n",
    "# finding the predicted class for each sample in test set\n",
    "y_pred = np.zeros(X_test.shape[0], dtype=np.int8)\n",
    "\n",
    "for i in range(X_test.shape[0]):\n",
    "    if male_density[i] > female_density[i]:\n",
    "        y_pred[i] = 1\n",
    "\n",
    "    else:\n",
    "        y_pred[i] = 0\n",
    "    \n",
    "print(\"y-predicted matrix: \",y_pred)\n"
   ]
  },
  {
   "cell_type": "code",
   "execution_count": 11,
   "metadata": {},
   "outputs": [
    {
     "name": "stdout",
     "output_type": "stream",
     "text": [
      "y-predicted matrix\n",
      " [1 1 1 0 1 1 0 0 0 0]\n",
      "y-test matrix\n",
      " [1 1 1 1 1 0 0 0 0 0]\n",
      "[[4 1]\n",
      " [1 4]]\n",
      "percent accuracy score :  80.0\n"
     ]
    }
   ],
   "source": [
    "print(\"y-predicted matrix\\n\",y_pred)\n",
    "print(\"y-test matrix\\n\",y_test)\n",
    "from sklearn.metrics import confusion_matrix, accuracy_score\n",
    "cm = confusion_matrix(y_test,y_pred)\n",
    "print(cm)\n",
    "print(\"percent accuracy score : \",accuracy_score(y_test, y_pred)*100)"
   ]
  },
  {
   "cell_type": "code",
   "execution_count": 12,
   "metadata": {},
   "outputs": [
    {
     "name": "stdout",
     "output_type": "stream",
     "text": [
      "g_males:  [         inf          inf          inf          inf          inf\n",
      "          inf 545.99544846 653.10640014 558.32319402 552.26093498]\n",
      "g_females:  [701.32453389 695.89704096 659.43028261          inf 646.82137618\n",
      " 684.90846584          inf          inf          inf          inf]\n"
     ]
    }
   ],
   "source": [
    "apriori_prob = 1/3\n",
    "g_male = np.zeros(10)\n",
    "g_female = np.zeros(10)\n",
    "\n",
    "#calculation of discriminant function\n",
    "def discriminant_function(density, apriori_prob):\n",
    "    return np.log(density) + np.log(apriori_prob)\n",
    "    \n",
    "for i in range(10):\n",
    "    \n",
    "    g_male[i] = discriminant_function(male_density[i], apriori_prob)\n",
    "    g_female[i] = discriminant_function(female_density[i], apriori_prob)\n",
    "\n",
    "print(\"g_males: \",g_male)\n",
    "print(\"g_females: \",g_female)\n"
   ]
  }
 ],
 "metadata": {
  "kernelspec": {
   "display_name": "Python 3",
   "language": "python",
   "name": "python3"
  },
  "language_info": {
   "codemirror_mode": {
    "name": "ipython",
    "version": 3
   },
   "file_extension": ".py",
   "mimetype": "text/x-python",
   "name": "python",
   "nbconvert_exporter": "python",
   "pygments_lexer": "ipython3",
   "version": "3.10.11"
  },
  "orig_nbformat": 4
 },
 "nbformat": 4,
 "nbformat_minor": 2
}
