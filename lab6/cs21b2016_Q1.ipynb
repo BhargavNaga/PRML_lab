{
 "cells": [
  {
   "cell_type": "code",
   "execution_count": 57,
   "metadata": {},
   "outputs": [],
   "source": [
    "#import libraries\n",
    "import numpy as np\n",
    "import pandas as pd\n",
    "import matplotlib.pyplot as plt\n",
    "import seaborn as sns\n"
   ]
  },
  {
   "cell_type": "markdown",
   "metadata": {},
   "source": [
    "## loading dataset"
   ]
  },
  {
   "cell_type": "code",
   "execution_count": 1,
   "metadata": {},
   "outputs": [
    {
     "ename": "NameError",
     "evalue": "name 'pd' is not defined",
     "output_type": "error",
     "traceback": [
      "\u001b[1;31m---------------------------------------------------------------------------\u001b[0m",
      "\u001b[1;31mNameError\u001b[0m                                 Traceback (most recent call last)",
      "\u001b[1;32md:\\PR-ML\\lab6\\cs21b2016_Q1.ipynb Cell 3\u001b[0m line \u001b[0;36m2\n\u001b[0;32m      <a href='vscode-notebook-cell:/d%3A/PR-ML/lab6/cs21b2016_Q1.ipynb#W2sZmlsZQ%3D%3D?line=0'>1</a>\u001b[0m \u001b[39m#load the iris dataset\u001b[39;00m\n\u001b[1;32m----> <a href='vscode-notebook-cell:/d%3A/PR-ML/lab6/cs21b2016_Q1.ipynb#W2sZmlsZQ%3D%3D?line=1'>2</a>\u001b[0m dataset \u001b[39m=\u001b[39m pd\u001b[39m.\u001b[39mread_csv(\u001b[39m'\u001b[39m\u001b[39miris.csv\u001b[39m\u001b[39m'\u001b[39m)  \n\u001b[0;32m      <a href='vscode-notebook-cell:/d%3A/PR-ML/lab6/cs21b2016_Q1.ipynb#W2sZmlsZQ%3D%3D?line=3'>4</a>\u001b[0m X \u001b[39m=\u001b[39m dataset\u001b[39m.\u001b[39miloc[:,\u001b[39m2\u001b[39m:\u001b[39m4\u001b[39m]\u001b[39m.\u001b[39mvalues\n\u001b[0;32m      <a href='vscode-notebook-cell:/d%3A/PR-ML/lab6/cs21b2016_Q1.ipynb#W2sZmlsZQ%3D%3D?line=4'>5</a>\u001b[0m y \u001b[39m=\u001b[39m dataset\u001b[39m.\u001b[39miloc[:,\u001b[39m-\u001b[39m\u001b[39m1\u001b[39m]\u001b[39m.\u001b[39mvalues\n",
      "\u001b[1;31mNameError\u001b[0m: name 'pd' is not defined"
     ]
    }
   ],
   "source": [
    "#load the iris dataset\n",
    "dataset = pd.read_csv('iris.csv')  \n",
    "\n",
    "X = dataset.iloc[:,1:-1].values\n",
    "y = dataset.iloc[:,-1].values\n",
    "from sklearn.preprocessing import LabelEncoder\n",
    "le = LabelEncoder()\n",
    "y = le.fit_transform(y)\n",
    "\n",
    "print(X)\n",
    "print(y)"
   ]
  },
  {
   "cell_type": "markdown",
   "metadata": {},
   "source": [
    "## split first 40 data points of each class into training set and remaining 10 points into test set"
   ]
  },
  {
   "cell_type": "code",
   "execution_count": 59,
   "metadata": {},
   "outputs": [
    {
     "name": "stdout",
     "output_type": "stream",
     "text": [
      "(120, 4)\n",
      "(120,)\n",
      "(30, 4)\n",
      "(30,)\n"
     ]
    }
   ],
   "source": [
    "#Separate data into different classes\n",
    "setosa_indices = np.where(y == 0)[0]\n",
    "versicolor_indices = np.where(y == 1)[0]\n",
    "virginica_indices = np.where(y == 2)[0]\n",
    "\n",
    "\n",
    "X_train = np.concatenate((X[setosa_indices[:40]], X[versicolor_indices[:40]], X[virginica_indices[:40]]), axis = 0)\n",
    "y_train = np.concatenate((y[setosa_indices[:40]], y[versicolor_indices[:40]], y[virginica_indices[:40]]), axis = 0)\n",
    "X_test = np.concatenate((X[setosa_indices[40:]], X[versicolor_indices[40:]], X[virginica_indices[40:]]), axis = 0)\n",
    "y_test = np.concatenate((y[setosa_indices[40:]], y[versicolor_indices[40:]], y[virginica_indices[40:]]), axis = 0)\n",
    "\n",
    "print(X_train.shape)\n",
    "print(y_train.shape)\n",
    "print(X_test.shape)\n",
    "print(y_test.shape)\n",
    "\n"
   ]
  },
  {
   "cell_type": "markdown",
   "metadata": {},
   "source": [
    "## calculating mean vectors and inverse covariance matrix of train samples"
   ]
  },
  {
   "cell_type": "code",
   "execution_count": 60,
   "metadata": {},
   "outputs": [
    {
     "name": "stdout",
     "output_type": "stream",
     "text": [
      "mean_vector of setosa:\n",
      " [5.0375 3.44   1.4625 0.2325]\n",
      "covariance_mat of setosa:\n",
      " [[0.13112179 0.09897436 0.01298077 0.01362179]\n",
      " [0.09897436 0.13271795 0.00205128 0.0145641 ]\n",
      " [0.01298077 0.00205128 0.02958333 0.00458333]\n",
      " [0.01362179 0.0145641  0.00458333 0.00994231]]\n",
      "inv_cov of setosa:\n",
      " [[ 18.96620997 -13.74680415  -6.95996886  -2.63963858]\n",
      " [-13.74680415  19.00598614   6.57939373 -12.03991503]\n",
      " [ -6.95996886   6.57939373  39.21733422 -18.18107202]\n",
      " [ -2.63963858 -12.03991503 -18.18107202 130.21494869]]\n",
      "\n",
      "\n",
      "\n",
      "\n",
      "mean_vector of versicolor:\n",
      " [6.01   2.78   4.3175 1.35  ]\n",
      "covariance_mat of versicolor:\n",
      " [[0.27374359 0.08661538 0.17212821 0.05230769]\n",
      " [0.08661538 0.11087179 0.08087179 0.04538462]\n",
      " [0.17212821 0.08087179 0.20353205 0.07371795]\n",
      " [0.05230769 0.04538462 0.07371795 0.04307692]]\n",
      "inv_cov of versicolor:\n",
      " [[  9.13333334  -4.07640785  -9.58250752   9.60294701]\n",
      " [ -4.07640785  17.71179608   3.61868629 -19.90341079]\n",
      " [ -9.58250752   3.61868629  23.00463124 -31.54468702]\n",
      " [  9.60294701 -19.90341079 -31.54468702  86.50595261]]\n",
      "\n",
      "\n",
      "\n",
      "\n",
      "mean_vector of virginica:\n",
      " [6.6225 2.96   5.6075 1.99  ]\n",
      "covariance_mat of virginica:\n",
      " [[0.46794231 0.11041026 0.35777564 0.05125641]\n",
      " [0.11041026 0.11323077 0.08107692 0.04625641]\n",
      " [0.35777564 0.08107692 0.34532692 0.05930769]\n",
      " [0.05125641 0.04625641 0.05930769 0.07425641]]\n",
      "inv_cov of virginica:\n",
      " [[ 12.06774374  -4.8891638  -12.10821285   4.38637019]\n",
      " [ -4.8891638   14.82114236   3.00369869  -8.25671873]\n",
      " [-12.10821285   3.00369869  15.78668513  -6.12187765]\n",
      " [  4.38637019  -8.25671873  -6.12187765  20.47191629]]\n"
     ]
    }
   ],
   "source": [
    "mean_vector_setosa = np.mean(X_train[y_train == 0], axis=0)\n",
    "print(\"mean_vector of setosa:\\n\",mean_vector_setosa)\n",
    "cov_matrix_setosa = np.cov(X_train[y_train == 0], rowvar=False)\n",
    "print(\"covariance_mat of setosa:\\n\",cov_matrix_setosa)\n",
    "inv_cov_matrix_setosa = np.linalg.inv(cov_matrix_setosa)\n",
    "print(\"inv_cov of setosa:\\n\",inv_cov_matrix_setosa)\n",
    "\n",
    "print(\"\\n\\n\\n\")\n",
    "\n",
    "mean_vector_versicolor= np.mean(X_train[y_train == 1], axis=0)\n",
    "print(\"mean_vector of versicolor:\\n\",mean_vector_versicolor)\n",
    "cov_matrix_versicolor = np.cov(X_train[y_train == 1], rowvar=False)\n",
    "print(\"covariance_mat of versicolor:\\n\",cov_matrix_versicolor)\n",
    "inv_cov_matrix_versicolor = np.linalg.inv(cov_matrix_versicolor)\n",
    "print(\"inv_cov of versicolor:\\n\",inv_cov_matrix_versicolor)\n",
    "\n",
    "print(\"\\n\\n\\n\")\n",
    "\n",
    "mean_vector_virginica = np.mean(X_train[y_train == 2], axis=0)\n",
    "print(\"mean_vector of virginica:\\n\",mean_vector_virginica)\n",
    "cov_matrix_virginica = np.cov(X_train[y_train == 2], rowvar=False)\n",
    "print(\"covariance_mat of virginica:\\n\",cov_matrix_virginica)\n",
    "inv_cov_matrix_virginica = np.linalg.inv(cov_matrix_virginica)\n",
    "print(\"inv_cov of virginica:\\n\",inv_cov_matrix_virginica)\n"
   ]
  },
  {
   "cell_type": "markdown",
   "metadata": {},
   "source": [
    "#  multivariate_normal_density formula code"
   ]
  },
  {
   "cell_type": "code",
   "execution_count": 53,
   "metadata": {},
   "outputs": [],
   "source": [
    "def multivariate_normal_density(x, mean_vector, inv_cov):\n",
    "    p = x.shape[0]\n",
    "    det_inv_cov = np.linalg.det(inv_cov)\n",
    "    exponent = -0.5 * np.dot(np.dot((x - mean_vector).T, inv_cov), (x - mean_vector))\n",
    "    coef = 1 / ((2 * np.pi) ** (p / 2) * np.sqrt(det_inv_cov))\n",
    "    return coef * np.exp(exponent)\n"
   ]
  },
  {
   "cell_type": "markdown",
   "metadata": {},
   "source": [
    "###  finding multivariate_normal_density for each sample in test set for each class and finding the predicted class for each sample in test set"
   ]
  },
  {
   "cell_type": "code",
   "execution_count": 54,
   "metadata": {},
   "outputs": [
    {
     "name": "stdout",
     "output_type": "stream",
     "text": [
      "setosa_density:  [1.24407503e-005 2.88331391e-009 3.62930428e-006 8.91470361e-009\n",
      " 1.59690416e-007 4.94838660e-006 4.81870896e-006 1.42994152e-005\n",
      " 1.76132097e-005 2.56759711e-005 2.00656081e-081 3.74741333e-094\n",
      " 9.84188481e-068 1.93191258e-043 3.10303228e-077 1.65016219e-071\n",
      " 7.84946428e-076 7.49743430e-080 6.77599964e-040 3.86943752e-073\n",
      " 3.50751631e-203 3.53603050e-173 1.42816582e-145 1.25535078e-208\n",
      " 7.47021929e-215 6.44258088e-178 6.50503148e-144 1.09707066e-153\n",
      " 4.42345505e-183 1.75408108e-136]\n",
      "versicolor_density:  [1.35233877e-27 3.98494296e-17 3.91910314e-24 8.23297573e-23\n",
      " 1.45100189e-25 4.62548334e-21 1.05095164e-30 1.33037935e-23\n",
      " 2.58270207e-30 2.12391567e-25 5.52855844e-06 5.61481699e-05\n",
      " 9.01386940e-05 8.43809835e-06 7.64849755e-05 1.12086003e-05\n",
      " 6.22478428e-05 8.67483106e-05 2.11176768e-07 9.13925124e-05\n",
      " 3.79760714e-13 2.52440348e-14 4.70628639e-08 2.31886271e-10\n",
      " 6.69158974e-14 1.46663394e-13 5.40819455e-09 1.11299987e-07\n",
      " 1.45919556e-10 1.68277728e-06]\n",
      "virginica_density:  [1.33583689e-39 6.84458930e-30 2.76244569e-33 9.49322843e-33\n",
      " 1.19907606e-33 3.73290583e-33 1.22117460e-39 1.85343175e-33\n",
      " 6.25539956e-42 1.52107398e-37 1.88203408e-06 2.61953700e-06\n",
      " 4.39868897e-08 7.98364274e-10 1.42062151e-06 9.07404925e-08\n",
      " 4.84001484e-07 7.46207011e-08 5.65128973e-12 3.32768624e-07\n",
      " 6.50383796e-05 8.20493159e-07 1.29723712e-04 1.47057850e-04\n",
      " 4.28699448e-05 9.73320608e-06 2.78941825e-05 1.35866296e-04\n",
      " 3.70089088e-05 8.42170061e-05]\n",
      "y-predicted matrix:  [0 0 0 0 0 0 0 0 0 0 1 1 1 1 1 1 1 1 1 1 2 2 2 2 2 2 2 2 2 2]\n"
     ]
    }
   ],
   "source": [
    "# finding multivariate_normal_density for each sample in test set for each class\n",
    "setosa_density = np.zeros(X_test.shape[0])\n",
    "versicolor_density = np.zeros(X_test.shape[0])\n",
    "virginica_density = np.zeros(X_test.shape[0])\n",
    "for i in range(X_test.shape[0]):\n",
    "    setosa_density[i] = multivariate_normal_density(X_test[i], mean_vector_setosa, inv_cov_matrix_setosa)\n",
    "\n",
    "    versicolor_density[i] = multivariate_normal_density(X_test[i], mean_vector_versicolor, inv_cov_matrix_versicolor)\n",
    "    \n",
    "    virginica_density[i] = multivariate_normal_density(X_test[i], mean_vector_virginica, inv_cov_matrix_virginica)\n",
    "    \n",
    "print(\"setosa_density: \",setosa_density)\n",
    "print(\"versicolor_density: \",versicolor_density)\n",
    "print(\"virginica_density: \",virginica_density)\n",
    "\n",
    "# finding the predicted class for each sample in test set\n",
    "y_pred = np.zeros(X_test.shape[0], dtype=np.int8)\n",
    "\n",
    "for i in range(X_test.shape[0]):\n",
    "    if setosa_density[i] > versicolor_density[i] and setosa_density[i] > virginica_density[i]:\n",
    "        y_pred[i] = 0\n",
    "    elif versicolor_density[i] > setosa_density[i] and versicolor_density[i] > virginica_density[i]:\n",
    "        y_pred[i] = 1\n",
    "    else:\n",
    "        y_pred[i] = 2\n",
    "    \n",
    "print(\"y-predicted matrix: \",y_pred)\n"
   ]
  },
  {
   "cell_type": "markdown",
   "metadata": {},
   "source": [
    "## accuracy of your classifier on the testing set and report the results."
   ]
  },
  {
   "cell_type": "code",
   "execution_count": 34,
   "metadata": {},
   "outputs": [
    {
     "name": "stdout",
     "output_type": "stream",
     "text": [
      "y-predicted matrix\n",
      " [0 0 0 0 0 0 0 0 0 0 1 1 1 1 1 1 1 1 1 1 2 2 2 2 2 2 2 2 2 2]\n",
      "y-test matrix\n",
      " [0 0 0 0 0 0 0 0 0 0 1 1 1 1 1 1 1 1 1 1 2 2 2 2 2 2 2 2 2 2]\n",
      "[[10  0  0]\n",
      " [ 0 10  0]\n",
      " [ 0  0 10]]\n",
      "percent accuracy score :  100.0\n"
     ]
    }
   ],
   "source": [
    "print(\"y-predicted matrix\\n\",y_pred)\n",
    "print(\"y-test matrix\\n\",y_test)\n",
    "from sklearn.metrics import confusion_matrix, accuracy_score\n",
    "cm = confusion_matrix(y_test,y_pred)\n",
    "print(cm)\n",
    "print(\"percent accuracy score : \",accuracy_score(y_test, y_pred)*100)"
   ]
  },
  {
   "cell_type": "code",
   "execution_count": 55,
   "metadata": {},
   "outputs": [
    {
     "name": "stdout",
     "output_type": "stream",
     "text": [
      "10\n",
      "1.2440750254651893e-05\n"
     ]
    }
   ],
   "source": [
    "# xshape print\n",
    "print(X_test.shape[0]//3)\n",
    "print(setosa_density[0])"
   ]
  },
  {
   "cell_type": "markdown",
   "metadata": {},
   "source": [
    "## disriminant function"
   ]
  },
  {
   "cell_type": "code",
   "execution_count": 56,
   "metadata": {},
   "outputs": [
    {
     "name": "stdout",
     "output_type": "stream",
     "text": [
      "g_setosa:  [-12.39314545 -20.76293783 -13.62508187 -19.63417612 -16.74864108\n",
      " -13.31506126 -13.34161681 -12.2539042  -12.04547368 -11.66856727]\n",
      "g_versicolor:  [-62.96657429 -38.86003587 -54.99479168 -51.94992191 -58.29098534\n",
      " -47.92131837 -70.126469   -53.7726053  -69.22732891 -57.90997821]\n",
      "g_virginica:  [-90.60987293 -68.25270662 -76.06780395 -74.83334161 -76.90236905\n",
      " -75.76673338 -90.69961773 -76.46688143 -95.97374117 -85.87484408]\n"
     ]
    }
   ],
   "source": [
    "apriori_prob = 1/3\n",
    "g_setosa = np.zeros(10)\n",
    "g_versicolor = np.zeros(10)\n",
    "g_virginica = np.zeros(10)\n",
    "\n",
    "#calculation of discriminant function\n",
    "def discriminant_function(density, apriori_prob):\n",
    "    return np.log(density) + np.log(apriori_prob)\n",
    "    \n",
    "for i in range(10):\n",
    "    \n",
    "    g_setosa[i] = discriminant_function(setosa_density[i], apriori_prob)\n",
    "    g_versicolor[i] = discriminant_function(versicolor_density[i], apriori_prob)\n",
    "    g_virginica[i] = discriminant_function(virginica_density[i], apriori_prob)\n",
    "\n",
    "print(\"g_setosa: \",g_setosa)\n",
    "print(\"g_versicolor: \",g_versicolor)\n",
    "print(\"g_virginica: \",g_virginica)\n",
    "\n",
    "\n"
   ]
  }
 ],
 "metadata": {
  "kernelspec": {
   "display_name": "Python 3",
   "language": "python",
   "name": "python3"
  },
  "language_info": {
   "codemirror_mode": {
    "name": "ipython",
    "version": 3
   },
   "file_extension": ".py",
   "mimetype": "text/x-python",
   "name": "python",
   "nbconvert_exporter": "python",
   "pygments_lexer": "ipython3",
   "version": "3.10.11"
  },
  "orig_nbformat": 4
 },
 "nbformat": 4,
 "nbformat_minor": 2
}
